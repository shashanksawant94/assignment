{
 "cells": [
  {
   "cell_type": "code",
   "execution_count": 6,
   "metadata": {},
   "outputs": [
    {
     "name": "stdout",
     "output_type": "stream",
     "text": [
      "45\n"
     ]
    }
   ],
   "source": [
    "# Task 1 \n",
    "# 1.1 Write a Python Program to implement your own myreduce() function which works exactly like Python's built-in function reduce()\n",
    "\n",
    "def myreduce(func,sequ):\n",
    "    op=sequ[0]\n",
    "    \n",
    "    for rem in sequ[1:]:\n",
    "        op=func(op,rem)\n",
    "    return op\n",
    "\n",
    "def adds(x,y):\n",
    "    return x+y\n",
    "\n",
    "def powr(i,j):\n",
    "    return i*j\n",
    "\n",
    "add_items=[1,2,3,4,5,6,7,8,9]\n",
    "print(myreduce(adds,add_items))"
   ]
  },
  {
   "cell_type": "code",
   "execution_count": 7,
   "metadata": {},
   "outputs": [
    {
     "name": "stdout",
     "output_type": "stream",
     "text": [
      "[1, 44, 2, 7, 55]\n"
     ]
    }
   ],
   "source": [
    "# Task 1\n",
    "# 1.2 Write a Python program to implement your own myfilter() function which works exactly like Python's built-in function filter()\n",
    "\n",
    "def my_filter(func,sequence):\n",
    "    res=[]\n",
    "    for variable in sequence :\n",
    "        if func(variable):\n",
    "            res.append(variable)\n",
    "    return res\n",
    "\n",
    "def show_even(item):\n",
    "    if item%2==0 :\n",
    "        return True\n",
    "\n",
    "def show_positive(x):\n",
    "        if(x>=1):\n",
    "            return True\n",
    "\n",
    "\n",
    "seq=[1,-8,44,-88,2,7,-87,-3,-1,0,55]\n",
    "print(my_filter(show_positive,seq))"
   ]
  },
  {
   "cell_type": "code",
   "execution_count": null,
   "metadata": {},
   "outputs": [],
   "source": []
  },
  {
   "cell_type": "code",
   "execution_count": 8,
   "metadata": {},
   "outputs": [
    {
     "name": "stdout",
     "output_type": "stream",
     "text": [
      "['A', 'C', 'A', 'D', 'G', 'I', 'L', 'D']\n"
     ]
    }
   ],
   "source": [
    "# Task 1\n",
    "# 2 Implement List comprehensions to produce the following lists.\n",
    "# Write List comprehensions to produce the following Lists\n",
    "\n",
    "#['A', 'C', 'A', 'D', 'G', 'I', ’L’, ‘ D’]\n",
    "\n",
    "list1=[char for char in 'ACADGILD']\n",
    "print(list1)"
   ]
  },
  {
   "cell_type": "code",
   "execution_count": null,
   "metadata": {},
   "outputs": [],
   "source": []
  },
  {
   "cell_type": "code",
   "execution_count": 10,
   "metadata": {},
   "outputs": [
    {
     "name": "stdout",
     "output_type": "stream",
     "text": [
      "['x', 'xx', 'xxx', 'xxxx', 'y', 'yy', 'yyy', 'yyyy', 'z', 'zz', 'zzz', 'zzzz']\n"
     ]
    }
   ],
   "source": [
    "#['x', 'xx', 'xxx', 'xxxx', 'y', 'yy', 'yyy', 'yyyy', 'z', 'zz', 'zzz', 'zzzz']\n",
    "\n",
    "list2=[char*sep_char for sep_char in 'xyz' for char in range(1,5)]\n",
    "print(list2)"
   ]
  },
  {
   "cell_type": "code",
   "execution_count": null,
   "metadata": {},
   "outputs": [],
   "source": []
  },
  {
   "cell_type": "code",
   "execution_count": 7,
   "metadata": {},
   "outputs": [
    {
     "name": "stdout",
     "output_type": "stream",
     "text": [
      "['x', 'y', 'z', 'xx', 'yy', 'zz', 'xxx', 'yyy', 'zzz', 'xxxx', 'yyyy', 'zzzz']\n"
     ]
    }
   ],
   "source": [
    "#['x', 'y', 'z', 'xx', 'yy', 'zz', 'xx', 'yy', 'zz', 'xxxx', 'yyyy', 'zzzz']\n",
    "\n",
    "list3=[char*(i+1)for i in range(4) for char in 'xyz']\n",
    "print(list3)"
   ]
  },
  {
   "cell_type": "code",
   "execution_count": null,
   "metadata": {},
   "outputs": [],
   "source": []
  },
  {
   "cell_type": "code",
   "execution_count": 8,
   "metadata": {},
   "outputs": [
    {
     "name": "stdout",
     "output_type": "stream",
     "text": [
      "[[2], [3], [4], [3], [4], [5], [4], [5], [6]]\n"
     ]
    }
   ],
   "source": [
    "#[[2], [3], [4], [3], [4], [5], [4], [5], [6]]\n",
    "\n",
    "num_list=[[2],[3],[4]]\n",
    "num_list=[[num_list[i][0]+j] for i in range(0,3) for j in range(0,3)]\n",
    "print(num_list)"
   ]
  },
  {
   "cell_type": "code",
   "execution_count": null,
   "metadata": {},
   "outputs": [],
   "source": []
  },
  {
   "cell_type": "code",
   "execution_count": 11,
   "metadata": {},
   "outputs": [
    {
     "name": "stdout",
     "output_type": "stream",
     "text": [
      "[[2, 3, 4, 5], [3, 4, 5, 6], [4, 5, 6, 7], [5, 6, 7, 8]]\n"
     ]
    }
   ],
   "source": [
    "#[[2, 3, 4, 5], [3, 4, 5, 6], [4, 5, 6, 7], [5, 6, 7, 8]]\n",
    "\n",
    "list4=[2,3,4,5]\n",
    "list4=[[k+j for k in list4] for j in range(0,4)]\n",
    "print(list4)"
   ]
  },
  {
   "cell_type": "code",
   "execution_count": null,
   "metadata": {},
   "outputs": [],
   "source": []
  },
  {
   "cell_type": "code",
   "execution_count": 12,
   "metadata": {},
   "outputs": [
    {
     "name": "stdout",
     "output_type": "stream",
     "text": [
      "[(1, 1), (2, 1), (3, 1), (1, 2), (2, 2), (3, 2), (1, 3), (2, 3), (3, 3)]\n"
     ]
    }
   ],
   "source": [
    "#[(1, 1), (2, 1), (3, 1), (1, 2), (2, 2), (3, 2), (1, 3), (2, 3), (3, 3)]\n",
    "\n",
    "list6=[1,2,3]\n",
    "list6=[(y,x) for x in list6 for y in list6]\n",
    "print(list6)"
   ]
  },
  {
   "cell_type": "code",
   "execution_count": null,
   "metadata": {},
   "outputs": [],
   "source": []
  },
  {
   "cell_type": "code",
   "execution_count": null,
   "metadata": {},
   "outputs": [],
   "source": []
  },
  {
   "cell_type": "code",
   "execution_count": 16,
   "metadata": {},
   "outputs": [
    {
     "name": "stdout",
     "output_type": "stream",
     "text": [
      "The longest word is programming\n"
     ]
    }
   ],
   "source": [
    "# Task 1\n",
    "# 3 Implement a function longestWord() that takes a list of words and returns the longest one.\n",
    "\n",
    "def longestWord(x):\n",
    "    words_list=[]\n",
    "    for word in x:\n",
    "        words_list.append(len(list(word)))\n",
    "    return x[words_list.index(max(words_list))]\n",
    "        \n",
    "\n",
    "list_of_word=['python','data','programming','science','computer']\n",
    "print('The longest word is',longestWord(list_of_word))"
   ]
  },
  {
   "cell_type": "code",
   "execution_count": null,
   "metadata": {},
   "outputs": [],
   "source": []
  },
  {
   "cell_type": "code",
   "execution_count": null,
   "metadata": {},
   "outputs": [],
   "source": []
  },
  {
   "cell_type": "code",
   "execution_count": 51,
   "metadata": {},
   "outputs": [
    {
     "name": "stdout",
     "output_type": "stream",
     "text": [
      "Enter length of side 1 : 10\n",
      "Enter length of side 2 : 5\n",
      "Enter length of side 3 : 8\n",
      "Area of Triangle ABC is 19.810035\n"
     ]
    }
   ],
   "source": [
    "# Task 2\n",
    "# 1.1 Write a Python Program(with class concepts) to find the area of the triangle using the below formula.\n",
    "# area = (s*(s-a)*(s-b)*(s-c)) ** 0.5\n",
    "#Function to take the length of the sides of triangle from user should be defined in the parent\n",
    "#class and function to calculate the area should be defined in subclass.\n",
    "\n",
    "class Shape:\n",
    "    def __init__(self,name):\n",
    "        self.name=name\n",
    "        \n",
    "    def len_of_sides(self):\n",
    "        self.each_side=[]\n",
    "        for i in range(3):\n",
    "            self.each_side.append(float(input('Enter length of side '+str(i+1)+' : ')))\n",
    "    \n",
    "    def dispSides(self):\n",
    "        for i in range(3):\n",
    "            print('Length of Side '+str(i+1)+' is : ',self.each_side[i])\n",
    "            \n",
    "            \n",
    "class Triangle(Shape):\n",
    "    def area(self):\n",
    "        a,b,c=self.each_side\n",
    "        s=(a+b+c)/2\n",
    "        op = (s*(s-a)*(s-b)*(s-c))**0.5\n",
    "        print('Area of Triangle %s is %f' % (self.name, op))\n",
    "        \n",
    "        \n",
    "t1=Triangle('ABC')\n",
    "t1.len_of_sides()\n",
    "t1.area()"
   ]
  },
  {
   "cell_type": "code",
   "execution_count": null,
   "metadata": {},
   "outputs": [],
   "source": []
  },
  {
   "cell_type": "code",
   "execution_count": 55,
   "metadata": {},
   "outputs": [
    {
     "name": "stdout",
     "output_type": "stream",
     "text": [
      "Enter Total No. of Words : 6\n",
      "Enter word 1: data\n",
      "Enter word 2: os\n",
      "Enter word 3: python\n",
      "Enter word 4: program\n",
      "Enter word 5: scien\n",
      "Enter word 6: machine\n",
      "Return words longer than 5\n",
      "['python', 'program', 'machine']\n"
     ]
    }
   ],
   "source": [
    "# Task 2\n",
    "# 1.2 Write a function filter_long_words() that takes a list of words and an integer n and returns the list\n",
    "# of words that are longer than n.\n",
    "\n",
    "def filter_long_words(n,list_of_words):\n",
    "    great_than_n=[]\n",
    "    for word in list_of_words:\n",
    "        if(len(word) > n):\n",
    "            great_than_n.append(word)\n",
    "    return great_than_n\n",
    "\n",
    "\n",
    "list_of_words=[]\n",
    "no_of_words = int(input('Enter Total No. of Words : '))\n",
    "for i in range(0,no_of_words):\n",
    "    word=input('Enter word '+str(i+1)+': ')\n",
    "    list_of_words.append(word)\n",
    "n=int(input('Return words longer than '))\n",
    "print(filter_long_words(n,list_of_words))"
   ]
  },
  {
   "cell_type": "code",
   "execution_count": null,
   "metadata": {},
   "outputs": [],
   "source": []
  },
  {
   "cell_type": "code",
   "execution_count": null,
   "metadata": {},
   "outputs": [],
   "source": []
  },
  {
   "cell_type": "code",
   "execution_count": 58,
   "metadata": {},
   "outputs": [
    {
     "name": "stdout",
     "output_type": "stream",
     "text": [
      "[4, 7, 6, 11, 7]\n"
     ]
    }
   ],
   "source": [
    "# Task 2\n",
    "# 2.1 Write a Python program using function concept that maps list of words into a list of integers\n",
    "# representing the lengths of the corresponding words .\n",
    "# Hint: If a list [ ab,cde,erty] is passed on to the python function output should come as [2,3,4]\n",
    "# Here 2,3 and 4 are the lengths of the words in the list.\n",
    "\n",
    "def get_words_len(list_of_words):\n",
    "    words_len_list=[]\n",
    "    for word in list_of_words:\n",
    "        words_len_list.append(len(word))\n",
    "    return words_len_list\n",
    "\n",
    "words=['data','machine','python','programming','backend']\n",
    "print(get_words_len(words))"
   ]
  },
  {
   "cell_type": "code",
   "execution_count": null,
   "metadata": {},
   "outputs": [],
   "source": []
  },
  {
   "cell_type": "code",
   "execution_count": null,
   "metadata": {},
   "outputs": [],
   "source": []
  },
  {
   "cell_type": "code",
   "execution_count": 61,
   "metadata": {},
   "outputs": [
    {
     "name": "stdout",
     "output_type": "stream",
     "text": [
      "False\n"
     ]
    }
   ],
   "source": [
    "# Task 2\n",
    "# 2.2 Write a Python function which takes a character (i.e. a string of length 1) and returns True if it is\n",
    "# a vowel, False otherwise.\n",
    "\n",
    "def is_vowel(char):\n",
    "    if (char=='A' or char=='a' or char=='E' or char=='e' or char=='I' or char=='i' or char=='O' or char=='o' or char=='U' or char=='u'):\n",
    "        return True\n",
    "    else:\n",
    "        return False\n",
    "\n",
    "print(is_vowel('j'))"
   ]
  },
  {
   "cell_type": "code",
   "execution_count": null,
   "metadata": {},
   "outputs": [],
   "source": []
  }
 ],
 "metadata": {
  "kernelspec": {
   "display_name": "Python 3",
   "language": "python",
   "name": "python3"
  },
  "language_info": {
   "codemirror_mode": {
    "name": "ipython",
    "version": 3
   },
   "file_extension": ".py",
   "mimetype": "text/x-python",
   "name": "python",
   "nbconvert_exporter": "python",
   "pygments_lexer": "ipython3",
   "version": "3.7.4"
  }
 },
 "nbformat": 4,
 "nbformat_minor": 2
}
