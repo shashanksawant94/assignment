{
 "cells": [
  {
   "cell_type": "code",
   "execution_count": 15,
   "metadata": {},
   "outputs": [
    {
     "name": "stdout",
     "output_type": "stream",
     "text": [
      "Age of Dimo Stident is 32\n",
      "Dimo Stident Completed Engineering 12 years ago\n"
     ]
    }
   ],
   "source": [
    "# OOPS Assignment\n",
    "# Create class A, B and C. Create method test() in class A and class B. \n",
    "# Inherit class A and B in class C. Through class C object access class A test() and class B test() methods separately.\n",
    "\n",
    "class A:\n",
    "    def __init__(self,fname,lname,yob):\n",
    "        self.fname=fname\n",
    "        self.lname=lname\n",
    "        self.yob=yob\n",
    "        \n",
    "    def __str__(self):\n",
    "        return '%s %s' % (self.fname,self.lname)\n",
    "        \n",
    "        \n",
    "    def test(self,curr_year):\n",
    "        curr_age = curr_year - self.yob\n",
    "        print('Age of %s %s is %d' % (self.fname, self.lname, curr_age))\n",
    "        \n",
    "\n",
    "class B:\n",
    "    def __init__(self,course_name,graduate_year):\n",
    "        self.course_name = course_name\n",
    "        self.graduate_year = graduate_year\n",
    "        \n",
    "    def test(self,curr_year):\n",
    "        duration = curr_year - self.graduate_year\n",
    "        print('%s %s Completed %s %d years ago' % (self.fname, self.lname, self.course_name, duration))\n",
    "    \n",
    "\n",
    "class C(A,B):\n",
    "    def __init__(self,student_id,fname,lname,yob,course_name,graduate_year):\n",
    "        A.__init__(self,fname,lname,yob)\n",
    "        B.__init__(self,course_name,graduate_year)\n",
    "        self.student_id = student_id\n",
    "        \n",
    "stud=C(1,'Dimo','Stident',1988,'Engineering',2008)\n",
    "A.test(stud,2020)\n",
    "B.test(stud,2020)"
   ]
  },
  {
   "cell_type": "code",
   "execution_count": null,
   "metadata": {},
   "outputs": [],
   "source": []
  }
 ],
 "metadata": {
  "kernelspec": {
   "display_name": "Python 3",
   "language": "python",
   "name": "python3"
  },
  "language_info": {
   "codemirror_mode": {
    "name": "ipython",
    "version": 3
   },
   "file_extension": ".py",
   "mimetype": "text/x-python",
   "name": "python",
   "nbconvert_exporter": "python",
   "pygments_lexer": "ipython3",
   "version": "3.7.4"
  }
 },
 "nbformat": 4,
 "nbformat_minor": 2
}
